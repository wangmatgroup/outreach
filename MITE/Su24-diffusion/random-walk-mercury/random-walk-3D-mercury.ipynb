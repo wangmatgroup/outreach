{
 "cells": [
  {
   "cell_type": "code",
   "execution_count": null,
   "metadata": {},
   "outputs": [],
   "source": [
    "# import modules to be used in this notebook\n",
    "#   numpy is a math library, mercury is an app library for jupyter notebooks\n",
    "import numpy as np\n",
    "import mercury as mr\n",
    "\n",
    "# for general plots, including static plots\n",
    "import matplotlib.pyplot as plt\n",
    "\n",
    "# for animated plots\n",
    "import matplotlib.animation as animation\n",
    "from IPython import display\n",
    "\n",
    "# initiate web-app with mercury\n",
    "app = mr.App(title=\"Diffusion on Lattice\", description=\"Random walk model\", show_code=False)"
   ]
  },
  {
   "cell_type": "markdown",
   "metadata": {},
   "source": [
    "### Random walk in 3D"
   ]
  },
  {
   "cell_type": "code",
   "execution_count": null,
   "metadata": {},
   "outputs": [],
   "source": [
    "# Run random walk on a 2D lattice\n",
    "# add Mercury widgets\n",
    "from lattice_3D import random_walk\n",
    "lattice = mr.Select(label=\"Choose a 3D lattice: \", value=\"cubic\",choices=[\"cubic\",\"face-centered cubic\"])\n",
    "num_steps = mr.Numeric(value=1e2,min=0,max=1e3,label=\"Enter the number of steps in the simulation:\")\n",
    "disp = mr.Select(label=\"Choose a display type:\", value=\"static (fast)\", choices=[\"static (fast)\",\"interactive (slow)\"])"
   ]
  },
  {
   "cell_type": "code",
   "execution_count": null,
   "metadata": {},
   "outputs": [],
   "source": [
    "# convert float to integer\n",
    "nsteps = int(num_steps.value)\n",
    "# run the random walk simulation\n",
    "rs2, x, y, z = random_walk(nsteps,latt_type=lattice.value)"
   ]
  },
  {
   "cell_type": "code",
   "execution_count": null,
   "metadata": {},
   "outputs": [],
   "source": [
    "## display the results\n",
    "if disp.value == \"static (fast)\":\n",
    "    ## a  static plot of the results\n",
    "    label = 'Steps = {}'.format(nsteps)\n",
    "    fig = plt.figure()\n",
    "    ax = fig.add_subplot(111, projection='3d')\n",
    "    plt.title(f\"Random walk trajectory on {lattice.value} lattice with {nsteps} steps\")\n",
    "    ax.grid(True)\n",
    "    ax.legend([label], loc='upper left', bbox_to_anchor=(1, 1), borderaxespad=0.)\n",
    "    ax.set_xlabel('x position')\n",
    "    ax.set_ylabel('y position')\n",
    "    ax.set_zlabel('z position')\n",
    "    ax.plot(x, y, z)\n",
    "else:\n",
    "    ## an animated plot of the results\n",
    "    # create line initially without data\n",
    "    fig = plt.figure()\n",
    "    ax = fig.add_subplot(projection=\"3d\")\n",
    "    line = ax.plot([],[],[])[0]\n",
    "\n",
    "    # define a function that will update the results frame-by-frame\n",
    "    def update_3D(frame_num, line, x, y, z):\n",
    "        line.set_data(x[:frame_num],y[:frame_num]) ## WW: a bug here? interactive differs from static visualization\n",
    "        line.set_3d_properties(z[:frame_num])\n",
    "\n",
    "    # Setting the axes properties\n",
    "    ax.set(xlim3d=(min(x),max(x)), xlabel='X')\n",
    "    ax.set(ylim3d=(min(y),max(y)), ylabel='Y')\n",
    "    ax.set(ylim3d=(min(z),max(z)), ylabel='Z')\n",
    "    \n",
    "    # Creating the Animation object\n",
    "    #   interval = delay \n",
    "    ani = animation.FuncAnimation(fig, update_3D, nsteps, fargs=(line,x,y,z),interval=50)\n",
    "    \n",
    "    ## embedded video\n",
    "    #video = ani.to_html5_video()\n",
    "    #html = display.HTML(video)\n",
    "    #display.display(html)\n",
    "    #plt.close()\n",
    "    \n",
    "    ## interactive video\n",
    "    video = ani.to_jshtml()\n",
    "    html = display.HTML(video)\n",
    "    display.display(html)\n",
    "    plt.close()"
   ]
  },
  {
   "cell_type": "code",
   "execution_count": null,
   "metadata": {},
   "outputs": [],
   "source": []
  }
 ],
 "metadata": {
  "kernelspec": {
   "display_name": "Python 3 (ipykernel)",
   "language": "python",
   "name": "python3"
  },
  "language_info": {
   "codemirror_mode": {
    "name": "ipython",
    "version": 3
   },
   "file_extension": ".py",
   "mimetype": "text/x-python",
   "name": "python",
   "nbconvert_exporter": "python",
   "pygments_lexer": "ipython3",
   "version": "3.9.12"
  }
 },
 "nbformat": 4,
 "nbformat_minor": 4
}
