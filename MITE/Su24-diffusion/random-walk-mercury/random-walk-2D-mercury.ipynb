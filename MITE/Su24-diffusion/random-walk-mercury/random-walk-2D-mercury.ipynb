{
 "cells": [
  {
   "cell_type": "code",
   "execution_count": 1,
   "metadata": {},
   "outputs": [
    {
     "data": {
      "application/mercury+json": "{\n    \"widget\": \"App\",\n    \"title\": \"Diffusion on Lattice\",\n    \"description\": \"Random walk model\",\n    \"show_code\": false,\n    \"show_prompt\": false,\n    \"output\": \"app\",\n    \"schedule\": \"\",\n    \"notify\": \"{}\",\n    \"continuous_update\": true,\n    \"static_notebook\": false,\n    \"show_sidebar\": true,\n    \"full_screen\": true,\n    \"allow_download\": true,\n    \"stop_on_error\": false,\n    \"model_id\": \"mercury-app\",\n    \"code_uid\": \"App.0.40.25.14-rand987b14e8\"\n}",
      "text/html": [
       "<h3>Mercury Application</h3><small>This output won't appear in the web app.</small>"
      ],
      "text/plain": [
       "mercury.App"
      ]
     },
     "metadata": {},
     "output_type": "display_data"
    }
   ],
   "source": [
    "# import modules to be used in this notebook\n",
    "#   numpy is a math library, mercury is an app library for jupyter notebooks\n",
    "import numpy as np\n",
    "import mercury as mr\n",
    "\n",
    "# for general plots, including static plots\n",
    "import matplotlib.pyplot as plt\n",
    "\n",
    "# for animated plots\n",
    "import matplotlib.animation as animation\n",
    "from IPython import display\n",
    "\n",
    "# initiate web-app with mercury\n",
    "app = mr.App(title=\"Diffusion on Lattice\", description=\"Random walk model\", show_code=False)"
   ]
  },
  {
   "cell_type": "markdown",
   "metadata": {},
   "source": [
    "### Random walk in 2D"
   ]
  },
  {
   "cell_type": "code",
   "execution_count": 5,
   "metadata": {},
   "outputs": [
    {
     "data": {
      "application/mercury+json": "{\n    \"widget\": \"Select\",\n    \"value\": \"square\",\n    \"choices\": [\n        \"square\",\n        \"triangle\"\n    ],\n    \"label\": \"Choose a 2D lattice: \",\n    \"model_id\": \"a286cd0ff42a4d818a7d57bc211dc3d5\",\n    \"code_uid\": \"Select.0.40.16.7-randb6545eb8\",\n    \"url_key\": \"\",\n    \"disabled\": false,\n    \"hidden\": false\n}",
      "application/vnd.jupyter.widget-view+json": {
       "model_id": "a286cd0ff42a4d818a7d57bc211dc3d5",
       "version_major": 2,
       "version_minor": 0
      },
      "text/plain": [
       "mercury.Select"
      ]
     },
     "metadata": {},
     "output_type": "display_data"
    },
    {
     "data": {
      "application/mercury+json": "{\n    \"widget\": \"Numeric\",\n    \"value\": 100.0,\n    \"min\": 0.0,\n    \"max\": 1000.0,\n    \"step\": 1.0,\n    \"label\": \"Enter the number of steps in the simulation:\",\n    \"model_id\": \"f36baa3c1487477a852e556284859b94\",\n    \"code_uid\": \"Numeric.0.40.26.8-rand78c444c7\",\n    \"url_key\": \"\",\n    \"disabled\": false,\n    \"hidden\": false\n}",
      "application/vnd.jupyter.widget-view+json": {
       "model_id": "f36baa3c1487477a852e556284859b94",
       "version_major": 2,
       "version_minor": 0
      },
      "text/plain": [
       "mercury.Numeric"
      ]
     },
     "metadata": {},
     "output_type": "display_data"
    },
    {
     "data": {
      "application/mercury+json": "{\n    \"widget\": \"Select\",\n    \"value\": \"static (fast)\",\n    \"choices\": [\n        \"static (fast)\",\n        \"interactive (slow)\"\n    ],\n    \"label\": \"Choose a display type:\",\n    \"model_id\": \"3f6b692bb1a74bbab28d12f3900b7386\",\n    \"code_uid\": \"Select.0.40.16.9-randd9ebf1c8\",\n    \"url_key\": \"\",\n    \"disabled\": false,\n    \"hidden\": false\n}",
      "application/vnd.jupyter.widget-view+json": {
       "model_id": "3f6b692bb1a74bbab28d12f3900b7386",
       "version_major": 2,
       "version_minor": 0
      },
      "text/plain": [
       "mercury.Select"
      ]
     },
     "metadata": {},
     "output_type": "display_data"
    }
   ],
   "source": [
    "# Run random walk on a 2D lattice\n",
    "# add Mercury widgets\n",
    "import sys\n",
    "sys.path.append('/home/wwwennie/wwwennie@gmail.com/UT-Austin/teaching/Elective-Computational-Methods-MatSci/projects/1-random-walk-mercury/')\n",
    "\n",
    "from lattice_2D import random_walk\n",
    "lattice = mr.Select(label=\"Choose a 2D lattice: \", value=\"square\",choices=[\"square\",\"triangle\"])\n",
    "num_steps = mr.Numeric(value=1e2,min=0,max=1e3,label=\"Enter the number of steps in the simulation:\")\n",
    "disp = mr.Select(label=\"Choose a display type:\", value=\"static (fast)\", choices=[\"static (fast)\",\"interactive (slow)\"])"
   ]
  },
  {
   "cell_type": "code",
   "execution_count": 3,
   "metadata": {},
   "outputs": [],
   "source": [
    "# convert float to integer\n",
    "nsteps = int(num_steps.value)\n",
    "# run the random walk simulation\n",
    "rs2, x, y = random_walk(nsteps,latt_type=lattice.value)"
   ]
  },
  {
   "cell_type": "code",
   "execution_count": 4,
   "metadata": {},
   "outputs": [
    {
     "data": {
      "image/png": "[encoded data removed]",
      "text/plain": [
       "<Figure size 432x288 with 1 Axes>"
      ]
     },
     "metadata": {
      "needs_background": "light"
     },
     "output_type": "display_data"
    }
   ],
   "source": [
    "## display the results\n",
    "if disp.value == \"static (fast)\":\n",
    "    ## a  static plot of the results\n",
    "    label = 'Steps = {}'.format(nsteps)\n",
    "    _ = plt.title(f\"Random walk trajectory on {lattice.value} lattice with {nsteps} steps\")\n",
    "    _ = plt.xlabel('x positions')\n",
    "    _ = plt.ylabel('y positions')\n",
    "    _ = plt.plot(x,y)\n",
    "else:\n",
    "    ## an animated plot of the results\n",
    "    # create lines initially without data\n",
    "    fig, ax = plt.subplots()\n",
    "    line = ax.plot([], [])[0]\n",
    "\n",
    "    # define a function that will update the results frame-by-frame\n",
    "    def update_2D(frame_num, line, x, y):\n",
    "        line.set_xdata(x[:frame_num])\n",
    "        line.set_ydata(y[:frame_num])\n",
    "\n",
    "    # Setting the axes properties\n",
    "    ax.set(xlim=(min(x),max(x)), xlabel='X')\n",
    "    ax.set(ylim=(min(y),max(y)), ylabel='Y')\n",
    "    \n",
    "    # Creating the Animation object\n",
    "    #   interval = delay \n",
    "    ani = animation.FuncAnimation(fig, update_2D, nsteps, fargs=(line,x,y),interval=50)\n",
    "    \n",
    "    ## embedded video\n",
    "    #video = ani.to_html5_video()\n",
    "    #html = display.HTML(video)\n",
    "    #display.display(html)\n",
    "    #plt.close()\n",
    "    \n",
    "    ## interactive video\n",
    "    video = ani.to_jshtml()\n",
    "    html = display.HTML(video)\n",
    "    display.display(html)\n",
    "    plt.close()"
   ]
  },
  {
   "cell_type": "code",
   "execution_count": null,
   "metadata": {},
   "outputs": [],
   "source": []
  }
 ],
 "metadata": {
  "kernelspec": {
   "display_name": "Python 3 (ipykernel)",
   "language": "python",
   "name": "python3"
  },
  "language_info": {
   "codemirror_mode": {
    "name": "ipython",
    "version": 3
   },
   "file_extension": ".py",
   "mimetype": "text/x-python",
   "name": "python",
   "nbconvert_exporter": "python",
   "pygments_lexer": "ipython3",
   "version": "3.9.12"
  }
 },
 "nbformat": 4,
 "nbformat_minor": 4
}
